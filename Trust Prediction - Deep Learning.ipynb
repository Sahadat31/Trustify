{
 "cells": [
  {
   "cell_type": "code",
   "execution_count": 1,
   "metadata": {},
   "outputs": [],
   "source": [
    "import pandas as pd \n",
    "import numpy as np \n",
    "from keras.models import Sequential\n",
    "from keras.layers import Dense, Dropout\n",
    "from keras.optimizers import Adam\n",
    "from sklearn.model_selection import train_test_split\n",
    "from keras.utils import to_categorical"
   ]
  },
  {
   "cell_type": "code",
   "execution_count": 2,
   "metadata": {},
   "outputs": [
    {
     "data": {
      "text/html": [
       "<div>\n",
       "<style scoped>\n",
       "    .dataframe tbody tr th:only-of-type {\n",
       "        vertical-align: middle;\n",
       "    }\n",
       "\n",
       "    .dataframe tbody tr th {\n",
       "        vertical-align: top;\n",
       "    }\n",
       "\n",
       "    .dataframe thead th {\n",
       "        text-align: right;\n",
       "    }\n",
       "</style>\n",
       "<table border=\"1\" class=\"dataframe\">\n",
       "  <thead>\n",
       "    <tr style=\"text-align: right;\">\n",
       "      <th></th>\n",
       "      <th>Frequency</th>\n",
       "      <th>Intimacy</th>\n",
       "      <th>Recency</th>\n",
       "      <th>label</th>\n",
       "      <th>Number</th>\n",
       "    </tr>\n",
       "  </thead>\n",
       "  <tbody>\n",
       "    <tr>\n",
       "      <th>0</th>\n",
       "      <td>0.225806</td>\n",
       "      <td>0.276533</td>\n",
       "      <td>1.000000</td>\n",
       "      <td>Medium</td>\n",
       "      <td>6949168770</td>\n",
       "    </tr>\n",
       "    <tr>\n",
       "      <th>1</th>\n",
       "      <td>0.322581</td>\n",
       "      <td>0.098190</td>\n",
       "      <td>0.999999</td>\n",
       "      <td>Medium</td>\n",
       "      <td>9098179455</td>\n",
       "    </tr>\n",
       "    <tr>\n",
       "      <th>2</th>\n",
       "      <td>0.612903</td>\n",
       "      <td>0.309726</td>\n",
       "      <td>0.999914</td>\n",
       "      <td>High</td>\n",
       "      <td>9837612527</td>\n",
       "    </tr>\n",
       "    <tr>\n",
       "      <th>3</th>\n",
       "      <td>0.903226</td>\n",
       "      <td>0.728687</td>\n",
       "      <td>0.999732</td>\n",
       "      <td>High</td>\n",
       "      <td>9874841426</td>\n",
       "    </tr>\n",
       "    <tr>\n",
       "      <th>4</th>\n",
       "      <td>0.387097</td>\n",
       "      <td>0.195148</td>\n",
       "      <td>0.999680</td>\n",
       "      <td>Medium</td>\n",
       "      <td>9800684503</td>\n",
       "    </tr>\n",
       "  </tbody>\n",
       "</table>\n",
       "</div>"
      ],
      "text/plain": [
       "   Frequency  Intimacy   Recency   label      Number\n",
       "0   0.225806  0.276533  1.000000  Medium  6949168770\n",
       "1   0.322581  0.098190  0.999999  Medium  9098179455\n",
       "2   0.612903  0.309726  0.999914    High  9837612527\n",
       "3   0.903226  0.728687  0.999732    High  9874841426\n",
       "4   0.387097  0.195148  0.999680  Medium  9800684503"
      ]
     },
     "execution_count": 2,
     "metadata": {},
     "output_type": "execute_result"
    }
   ],
   "source": [
    "df = pd.read_csv('./Call_Log_Feature.csv')\n",
    "df.head()"
   ]
  },
  {
   "cell_type": "code",
   "execution_count": 3,
   "metadata": {},
   "outputs": [],
   "source": [
    "reverse_map = {\n",
    "    'Spam' : 0,\n",
    "    'Low' : 1,\n",
    "    'Medium' : 2,\n",
    "    'High' : 3\n",
    "}\n",
    "\n",
    "df = df.sample(frac=1)\n",
    "\n",
    "X = df.drop(['label','Number'],axis=1)\n",
    "Y = df['label']\n",
    "Y = Y.map(reverse_map)\n",
    "\n",
    "x_train,x_test, y_train,y_test = train_test_split(X,Y, test_size=0.2)\n",
    "y_train = to_categorical(y_train)\n",
    "# x_train = x_train.values#.reshape((800,3,1))\n",
    "# x_test = x_test.values#.reshape((200,3,1))"
   ]
  },
  {
   "cell_type": "code",
   "execution_count": 4,
   "metadata": {},
   "outputs": [
    {
     "name": "stdout",
     "output_type": "stream",
     "text": [
      "Model: \"sequential\"\n",
      "_________________________________________________________________\n",
      "Layer (type)                 Output Shape              Param #   \n",
      "=================================================================\n",
      "dense (Dense)                (None, 16)                64        \n",
      "_________________________________________________________________\n",
      "dense_1 (Dense)              (None, 32)                544       \n",
      "_________________________________________________________________\n",
      "dense_2 (Dense)              (None, 4)                 132       \n",
      "=================================================================\n",
      "Total params: 740\n",
      "Trainable params: 740\n",
      "Non-trainable params: 0\n",
      "_________________________________________________________________\n"
     ]
    }
   ],
   "source": [
    "model = Sequential()\n",
    "model.add(Dense(16, activation='relu', input_shape=(3,)))\n",
    "model.add(Dense(32, activation='relu'))\n",
    "model.add(Dense(4, activation='softmax'))\n",
    "\n",
    "adam = Adam(lr=1e-3)\n",
    "model.compile(optimizer=adam, loss='categorical_crossentropy', metrics=['accuracy'])\n",
    "\n",
    "model.summary()"
   ]
  },
  {
   "cell_type": "code",
   "execution_count": 5,
   "metadata": {},
   "outputs": [
    {
     "name": "stdout",
     "output_type": "stream",
     "text": [
      "Epoch 1/20\n",
      "23/23 [==============================] - 0s 17ms/step - loss: 1.2957 - accuracy: 0.4264 - val_loss: 1.2628 - val_accuracy: 0.3625\n",
      "Epoch 2/20\n",
      "23/23 [==============================] - 0s 3ms/step - loss: 1.2275 - accuracy: 0.5236 - val_loss: 1.2079 - val_accuracy: 0.4000\n",
      "Epoch 3/20\n",
      "23/23 [==============================] - 0s 3ms/step - loss: 1.1792 - accuracy: 0.4931 - val_loss: 1.1708 - val_accuracy: 0.3625\n",
      "Epoch 4/20\n",
      "23/23 [==============================] - 0s 3ms/step - loss: 1.1413 - accuracy: 0.4764 - val_loss: 1.1425 - val_accuracy: 0.4250\n",
      "Epoch 5/20\n",
      "23/23 [==============================] - 0s 3ms/step - loss: 1.1103 - accuracy: 0.5861 - val_loss: 1.1143 - val_accuracy: 0.4625\n",
      "Epoch 6/20\n",
      "23/23 [==============================] - 0s 3ms/step - loss: 1.0740 - accuracy: 0.5444 - val_loss: 1.0767 - val_accuracy: 0.5125\n",
      "Epoch 7/20\n",
      "23/23 [==============================] - 0s 3ms/step - loss: 1.0271 - accuracy: 0.6097 - val_loss: 1.0339 - val_accuracy: 0.5500\n",
      "Epoch 8/20\n",
      "23/23 [==============================] - 0s 3ms/step - loss: 0.9690 - accuracy: 0.5972 - val_loss: 0.9707 - val_accuracy: 0.6000\n",
      "Epoch 9/20\n",
      "23/23 [==============================] - 0s 3ms/step - loss: 0.8963 - accuracy: 0.7042 - val_loss: 0.8996 - val_accuracy: 0.6500\n",
      "Epoch 10/20\n",
      "23/23 [==============================] - 0s 3ms/step - loss: 0.8249 - accuracy: 0.6875 - val_loss: 0.8385 - val_accuracy: 0.6875\n",
      "Epoch 11/20\n",
      "23/23 [==============================] - 0s 3ms/step - loss: 0.7654 - accuracy: 0.7806 - val_loss: 0.7855 - val_accuracy: 0.7250\n",
      "Epoch 12/20\n",
      "23/23 [==============================] - 0s 3ms/step - loss: 0.7112 - accuracy: 0.7681 - val_loss: 0.7308 - val_accuracy: 0.7625\n",
      "Epoch 13/20\n",
      "23/23 [==============================] - 0s 3ms/step - loss: 0.6624 - accuracy: 0.8306 - val_loss: 0.6878 - val_accuracy: 0.7625\n",
      "Epoch 14/20\n",
      "23/23 [==============================] - 0s 3ms/step - loss: 0.6183 - accuracy: 0.8389 - val_loss: 0.6375 - val_accuracy: 0.8125\n",
      "Epoch 15/20\n",
      "23/23 [==============================] - 0s 3ms/step - loss: 0.5801 - accuracy: 0.8431 - val_loss: 0.6024 - val_accuracy: 0.8250\n",
      "Epoch 16/20\n",
      "23/23 [==============================] - 0s 3ms/step - loss: 0.5466 - accuracy: 0.8556 - val_loss: 0.5676 - val_accuracy: 0.8375\n",
      "Epoch 17/20\n",
      "23/23 [==============================] - 0s 3ms/step - loss: 0.5168 - accuracy: 0.8639 - val_loss: 0.5339 - val_accuracy: 0.8375\n",
      "Epoch 18/20\n",
      "23/23 [==============================] - 0s 3ms/step - loss: 0.4894 - accuracy: 0.8722 - val_loss: 0.5078 - val_accuracy: 0.8375\n",
      "Epoch 19/20\n",
      "23/23 [==============================] - 0s 3ms/step - loss: 0.4648 - accuracy: 0.8750 - val_loss: 0.4780 - val_accuracy: 0.8750\n",
      "Epoch 20/20\n",
      "23/23 [==============================] - 0s 3ms/step - loss: 0.4440 - accuracy: 0.8764 - val_loss: 0.4548 - val_accuracy: 0.8750\n"
     ]
    },
    {
     "data": {
      "text/plain": [
       "<tensorflow.python.keras.callbacks.History at 0x193cbbde5f8>"
      ]
     },
     "execution_count": 5,
     "metadata": {},
     "output_type": "execute_result"
    }
   ],
   "source": [
    "model.fit(x_train,y_train,epochs=20, batch_size=32, validation_split=0.1)"
   ]
  },
  {
   "cell_type": "code",
   "execution_count": null,
   "metadata": {},
   "outputs": [],
   "source": []
  }
 ],
 "metadata": {
  "kernelspec": {
   "display_name": "Python 3",
   "language": "python",
   "name": "python3"
  },
  "language_info": {
   "codemirror_mode": {
    "name": "ipython",
    "version": 3
   },
   "file_extension": ".py",
   "mimetype": "text/x-python",
   "name": "python",
   "nbconvert_exporter": "python",
   "pygments_lexer": "ipython3",
   "version": "3.6.2"
  },
  "toc": {
   "base_numbering": 1,
   "nav_menu": {},
   "number_sections": true,
   "sideBar": true,
   "skip_h1_title": false,
   "title_cell": "Table of Contents",
   "title_sidebar": "Contents",
   "toc_cell": false,
   "toc_position": {},
   "toc_section_display": true,
   "toc_window_display": false
  }
 },
 "nbformat": 4,
 "nbformat_minor": 4
}
