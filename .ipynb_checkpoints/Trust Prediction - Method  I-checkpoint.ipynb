{
 "cells": [
  {
   "cell_type": "code",
   "execution_count": 1,
   "metadata": {},
   "outputs": [],
   "source": [
    "import numpy as np\n",
    "import pandas as pd \n",
    "from tqdm import tqdm\n",
    "from dateutil import parser"
   ]
  },
  {
   "cell_type": "code",
   "execution_count": 2,
   "metadata": {},
   "outputs": [
    {
     "name": "stdout",
     "output_type": "stream",
     "text": [
      "(16877, 4)\n"
     ]
    },
    {
     "data": {
      "text/html": [
       "<div>\n",
       "<style scoped>\n",
       "    .dataframe tbody tr th:only-of-type {\n",
       "        vertical-align: middle;\n",
       "    }\n",
       "\n",
       "    .dataframe tbody tr th {\n",
       "        vertical-align: top;\n",
       "    }\n",
       "\n",
       "    .dataframe thead th {\n",
       "        text-align: right;\n",
       "    }\n",
       "</style>\n",
       "<table border=\"1\" class=\"dataframe\">\n",
       "  <thead>\n",
       "    <tr style=\"text-align: right;\">\n",
       "      <th></th>\n",
       "      <th>number</th>\n",
       "      <th>calltype</th>\n",
       "      <th>duration</th>\n",
       "      <th>date</th>\n",
       "    </tr>\n",
       "  </thead>\n",
       "  <tbody>\n",
       "    <tr>\n",
       "      <th>0</th>\n",
       "      <td>7958309153</td>\n",
       "      <td>incomming-missed</td>\n",
       "      <td>0</td>\n",
       "      <td>2020-02-13 07:30:04.464000+00:00</td>\n",
       "    </tr>\n",
       "    <tr>\n",
       "      <th>1</th>\n",
       "      <td>7958309153</td>\n",
       "      <td>outgoing-rejected</td>\n",
       "      <td>0</td>\n",
       "      <td>2020-06-12 01:29:16.039000+00:00</td>\n",
       "    </tr>\n",
       "    <tr>\n",
       "      <th>2</th>\n",
       "      <td>7958309153</td>\n",
       "      <td>incomming-connected</td>\n",
       "      <td>4797</td>\n",
       "      <td>2020-10-07 01:03:33.778000+00:00</td>\n",
       "    </tr>\n",
       "    <tr>\n",
       "      <th>3</th>\n",
       "      <td>7958309153</td>\n",
       "      <td>incomming-connected</td>\n",
       "      <td>4741</td>\n",
       "      <td>2020-09-05 12:46:02.822000+00:00</td>\n",
       "    </tr>\n",
       "    <tr>\n",
       "      <th>4</th>\n",
       "      <td>7958309153</td>\n",
       "      <td>incomming-connected</td>\n",
       "      <td>2082</td>\n",
       "      <td>2020-09-13 04:05:35.482000+00:00</td>\n",
       "    </tr>\n",
       "  </tbody>\n",
       "</table>\n",
       "</div>"
      ],
      "text/plain": [
       "       number             calltype  duration                             date\n",
       "0  7958309153     incomming-missed         0 2020-02-13 07:30:04.464000+00:00\n",
       "1  7958309153    outgoing-rejected         0 2020-06-12 01:29:16.039000+00:00\n",
       "2  7958309153  incomming-connected      4797 2020-10-07 01:03:33.778000+00:00\n",
       "3  7958309153  incomming-connected      4741 2020-09-05 12:46:02.822000+00:00\n",
       "4  7958309153  incomming-connected      2082 2020-09-13 04:05:35.482000+00:00"
      ]
     },
     "execution_count": 2,
     "metadata": {},
     "output_type": "execute_result"
    }
   ],
   "source": [
    "df = pd.read_json('./calllog.json')\n",
    "print(df.shape)\n",
    "df.head()"
   ]
  },
  {
   "cell_type": "code",
   "execution_count": 3,
   "metadata": {},
   "outputs": [
    {
     "data": {
      "text/plain": [
       "array(['incomming-missed', 'outgoing-rejected', 'incomming-connected',\n",
       "       'incomming-rejected', 'outgoing-connected',\n",
       "       'outgoing-notconnected'], dtype=object)"
      ]
     },
     "execution_count": 3,
     "metadata": {},
     "output_type": "execute_result"
    }
   ],
   "source": [
    "df.calltype.unique()"
   ]
  },
  {
   "cell_type": "code",
   "execution_count": 4,
   "metadata": {},
   "outputs": [
    {
     "data": {
      "text/html": [
       "<div>\n",
       "<style scoped>\n",
       "    .dataframe tbody tr th:only-of-type {\n",
       "        vertical-align: middle;\n",
       "    }\n",
       "\n",
       "    .dataframe tbody tr th {\n",
       "        vertical-align: top;\n",
       "    }\n",
       "\n",
       "    .dataframe thead th {\n",
       "        text-align: right;\n",
       "    }\n",
       "</style>\n",
       "<table border=\"1\" class=\"dataframe\">\n",
       "  <thead>\n",
       "    <tr style=\"text-align: right;\">\n",
       "      <th></th>\n",
       "      <th>number</th>\n",
       "      <th>calltype</th>\n",
       "      <th>duration</th>\n",
       "      <th>date</th>\n",
       "      <th>callStatus1</th>\n",
       "      <th>callStatus2</th>\n",
       "      <th>timeStampMilli</th>\n",
       "    </tr>\n",
       "  </thead>\n",
       "  <tbody>\n",
       "    <tr>\n",
       "      <th>0</th>\n",
       "      <td>7958309153</td>\n",
       "      <td>incomming-missed</td>\n",
       "      <td>0</td>\n",
       "      <td>2020-02-13 07:30:04.464000+00:00</td>\n",
       "      <td>incomming</td>\n",
       "      <td>missed</td>\n",
       "      <td>464000</td>\n",
       "    </tr>\n",
       "    <tr>\n",
       "      <th>1</th>\n",
       "      <td>7958309153</td>\n",
       "      <td>outgoing-rejected</td>\n",
       "      <td>0</td>\n",
       "      <td>2020-06-12 01:29:16.039000+00:00</td>\n",
       "      <td>outgoing</td>\n",
       "      <td>rejected</td>\n",
       "      <td>39000</td>\n",
       "    </tr>\n",
       "    <tr>\n",
       "      <th>2</th>\n",
       "      <td>7958309153</td>\n",
       "      <td>incomming-connected</td>\n",
       "      <td>4797</td>\n",
       "      <td>2020-10-07 01:03:33.778000+00:00</td>\n",
       "      <td>incomming</td>\n",
       "      <td>connected</td>\n",
       "      <td>778000</td>\n",
       "    </tr>\n",
       "    <tr>\n",
       "      <th>3</th>\n",
       "      <td>7958309153</td>\n",
       "      <td>incomming-connected</td>\n",
       "      <td>4741</td>\n",
       "      <td>2020-09-05 12:46:02.822000+00:00</td>\n",
       "      <td>incomming</td>\n",
       "      <td>connected</td>\n",
       "      <td>822000</td>\n",
       "    </tr>\n",
       "    <tr>\n",
       "      <th>4</th>\n",
       "      <td>7958309153</td>\n",
       "      <td>incomming-connected</td>\n",
       "      <td>2082</td>\n",
       "      <td>2020-09-13 04:05:35.482000+00:00</td>\n",
       "      <td>incomming</td>\n",
       "      <td>connected</td>\n",
       "      <td>482000</td>\n",
       "    </tr>\n",
       "  </tbody>\n",
       "</table>\n",
       "</div>"
      ],
      "text/plain": [
       "       number             calltype  duration                             date  \\\n",
       "0  7958309153     incomming-missed         0 2020-02-13 07:30:04.464000+00:00   \n",
       "1  7958309153    outgoing-rejected         0 2020-06-12 01:29:16.039000+00:00   \n",
       "2  7958309153  incomming-connected      4797 2020-10-07 01:03:33.778000+00:00   \n",
       "3  7958309153  incomming-connected      4741 2020-09-05 12:46:02.822000+00:00   \n",
       "4  7958309153  incomming-connected      2082 2020-09-13 04:05:35.482000+00:00   \n",
       "\n",
       "  callStatus1 callStatus2  timeStampMilli  \n",
       "0   incomming      missed          464000  \n",
       "1    outgoing    rejected           39000  \n",
       "2   incomming   connected          778000  \n",
       "3   incomming   connected          822000  \n",
       "4   incomming   connected          482000  "
      ]
     },
     "execution_count": 4,
     "metadata": {},
     "output_type": "execute_result"
    }
   ],
   "source": [
    "df['callStatus1'] = df.calltype.apply(lambda x: x.split('-')[0])\n",
    "df['callStatus2'] = df.calltype.apply(lambda x: x.split('-')[1])\n",
    "df['timeStampMilli'] = df.date.apply(lambda x: parser.parse(str(x)).microsecond)\n",
    "df.head(n=5)"
   ]
  },
  {
   "cell_type": "markdown",
   "metadata": {},
   "source": [
    "### Number"
   ]
  },
  {
   "cell_type": "code",
   "execution_count": 5,
   "metadata": {},
   "outputs": [
    {
     "data": {
      "text/plain": [
       "(1000,)"
      ]
     },
     "execution_count": 5,
     "metadata": {},
     "output_type": "execute_result"
    }
   ],
   "source": [
    "number = np.array(df.number.unique())\n",
    "number.shape"
   ]
  },
  {
   "cell_type": "markdown",
   "metadata": {},
   "source": [
    "### Frequency"
   ]
  },
  {
   "cell_type": "code",
   "execution_count": 6,
   "metadata": {},
   "outputs": [],
   "source": [
    "total_outgoing = df['callStatus1'].value_counts()[0]  #Total Outgoing Calls\n",
    "total_incoming = df['callStatus1'].value_counts()[1]  #Total Incoming Calls"
   ]
  },
  {
   "cell_type": "code",
   "execution_count": 7,
   "metadata": {},
   "outputs": [],
   "source": [
    "def frequency(number):\n",
    "    \"\"\" Calculates Frequency for outgoing call from A to B \"\"\"\n",
    "    \n",
    "    C_AB = 0\n",
    "    C_AK = total_outgoing\n",
    "    sub_df = df[df['number'] == number]\n",
    "    C_AB = sub_df[sub_df['callStatus1'] == 'outgoing'].shape[0]\n",
    "                \n",
    "    return C_AB/C_AK"
   ]
  },
  {
   "cell_type": "markdown",
   "metadata": {},
   "source": [
    "### Intimacy"
   ]
  },
  {
   "cell_type": "code",
   "execution_count": 8,
   "metadata": {},
   "outputs": [],
   "source": [
    "D_AK = df.groupby(['callStatus1'])['duration'].sum()[1]  #total outgoing call duration\n",
    "D_KA = df.groupby(['callStatus1'])['duration'].sum()[0]  #total incoming call duration"
   ]
  },
  {
   "cell_type": "code",
   "execution_count": 9,
   "metadata": {},
   "outputs": [],
   "source": [
    "def intimacy(number):\n",
    "    \"\"\" Calculates Intimacy for outgoing call from A to B \"\"\"\n",
    "    \n",
    "    tendency = D_AK/(D_AK + D_KA)\n",
    "    sub_df = df[df['number'] == number]\n",
    "    \n",
    "    #Duration of outgoing calling \n",
    "    try: \n",
    "        D_AB = sub_df.groupby(['callStatus1'])['duration'].sum()[1] \n",
    "    except:\n",
    "        D_AB = 0\n",
    "        \n",
    "    #Duration of incoming calling\n",
    "    try:\n",
    "        D_BA = sub_df.groupby(['callStatus1'])['duration'].sum()[0]\n",
    "    except:\n",
    "        D_BA = 0\n",
    "    \n",
    "    S_AB = D_AB/(D_AK + D_KA)\n",
    "    R_BA = D_BA/(D_AK + D_KA)\n",
    "    \n",
    "    return tendency * S_AB + (1-tendency) * R_BA"
   ]
  },
  {
   "cell_type": "markdown",
   "metadata": {},
   "source": [
    "### Recency"
   ]
  },
  {
   "cell_type": "code",
   "execution_count": 10,
   "metadata": {},
   "outputs": [],
   "source": [
    "T_AK_Max = max(df.timeStampMilli)/1000   #Max Timestamp\n",
    "T_AK_Min = min(df.timeStampMilli)/1000   #Min Timestamp"
   ]
  },
  {
   "cell_type": "code",
   "execution_count": 11,
   "metadata": {},
   "outputs": [],
   "source": [
    "def recency(number):\n",
    "    sub_df = df[df['number'] == number]\n",
    "    sub_df = sub_df.sort_values('date')\n",
    "    \n",
    "    T_AB = sub_df.iloc[-1,6]/1000    #timestamp for recent call between A to B\n",
    "    \n",
    "    return (T_AB - T_AK_Min)/(T_AK_Max-T_AK_Min)"
   ]
  },
  {
   "cell_type": "markdown",
   "metadata": {},
   "source": [
    "\n",
    "### Build Dataset with Features"
   ]
  },
  {
   "cell_type": "code",
   "execution_count": 12,
   "metadata": {},
   "outputs": [
    {
     "data": {
      "text/plain": [
       "(1000, 4)"
      ]
     },
     "execution_count": 12,
     "metadata": {},
     "output_type": "execute_result"
    }
   ],
   "source": [
    "Values = np.zeros((1000,4))\n",
    "Values.shape"
   ]
  },
  {
   "cell_type": "code",
   "execution_count": 13,
   "metadata": {},
   "outputs": [
    {
     "data": {
      "text/html": [
       "<div>\n",
       "<style scoped>\n",
       "    .dataframe tbody tr th:only-of-type {\n",
       "        vertical-align: middle;\n",
       "    }\n",
       "\n",
       "    .dataframe tbody tr th {\n",
       "        vertical-align: top;\n",
       "    }\n",
       "\n",
       "    .dataframe thead th {\n",
       "        text-align: right;\n",
       "    }\n",
       "</style>\n",
       "<table border=\"1\" class=\"dataframe\">\n",
       "  <thead>\n",
       "    <tr style=\"text-align: right;\">\n",
       "      <th></th>\n",
       "      <th>Number</th>\n",
       "      <th>Frequency</th>\n",
       "      <th>Intimancy</th>\n",
       "      <th>Recency</th>\n",
       "    </tr>\n",
       "  </thead>\n",
       "  <tbody>\n",
       "    <tr>\n",
       "      <th>0</th>\n",
       "      <td>0.0</td>\n",
       "      <td>0.0</td>\n",
       "      <td>0.0</td>\n",
       "      <td>0.0</td>\n",
       "    </tr>\n",
       "    <tr>\n",
       "      <th>1</th>\n",
       "      <td>0.0</td>\n",
       "      <td>0.0</td>\n",
       "      <td>0.0</td>\n",
       "      <td>0.0</td>\n",
       "    </tr>\n",
       "    <tr>\n",
       "      <th>2</th>\n",
       "      <td>0.0</td>\n",
       "      <td>0.0</td>\n",
       "      <td>0.0</td>\n",
       "      <td>0.0</td>\n",
       "    </tr>\n",
       "    <tr>\n",
       "      <th>3</th>\n",
       "      <td>0.0</td>\n",
       "      <td>0.0</td>\n",
       "      <td>0.0</td>\n",
       "      <td>0.0</td>\n",
       "    </tr>\n",
       "    <tr>\n",
       "      <th>4</th>\n",
       "      <td>0.0</td>\n",
       "      <td>0.0</td>\n",
       "      <td>0.0</td>\n",
       "      <td>0.0</td>\n",
       "    </tr>\n",
       "  </tbody>\n",
       "</table>\n",
       "</div>"
      ],
      "text/plain": [
       "   Number  Frequency  Intimancy  Recency\n",
       "0     0.0        0.0        0.0      0.0\n",
       "1     0.0        0.0        0.0      0.0\n",
       "2     0.0        0.0        0.0      0.0\n",
       "3     0.0        0.0        0.0      0.0\n",
       "4     0.0        0.0        0.0      0.0"
      ]
     },
     "execution_count": 13,
     "metadata": {},
     "output_type": "execute_result"
    }
   ],
   "source": [
    "col_names = ['Number','Frequency','Intimancy','Recency']\n",
    "callLogDataframe = pd.DataFrame(data=Values, columns=col_names)\n",
    "callLogDataframe.head()"
   ]
  },
  {
   "cell_type": "code",
   "execution_count": 14,
   "metadata": {},
   "outputs": [
    {
     "name": "stderr",
     "output_type": "stream",
     "text": [
      "100%|█████████████████████████████████████████████████████████████████████████████| 1000/1000 [00:09<00:00, 110.49it/s]\n"
     ]
    }
   ],
   "source": [
    "for i in tqdm(range(1000)):\n",
    "    callLogDataframe.iloc[i,0] = number[i]\n",
    "    callLogDataframe.iloc[i,1] = frequency(callLogDataframe.iloc[i,0])\n",
    "    callLogDataframe.iloc[i,2] = intimacy(callLogDataframe.iloc[i,0])\n",
    "    callLogDataframe.iloc[i,3] = recency(callLogDataframe.iloc[i,0])"
   ]
  },
  {
   "cell_type": "code",
   "execution_count": 15,
   "metadata": {},
   "outputs": [
    {
     "data": {
      "text/html": [
       "<div>\n",
       "<style scoped>\n",
       "    .dataframe tbody tr th:only-of-type {\n",
       "        vertical-align: middle;\n",
       "    }\n",
       "\n",
       "    .dataframe tbody tr th {\n",
       "        vertical-align: top;\n",
       "    }\n",
       "\n",
       "    .dataframe thead th {\n",
       "        text-align: right;\n",
       "    }\n",
       "</style>\n",
       "<table border=\"1\" class=\"dataframe\">\n",
       "  <thead>\n",
       "    <tr style=\"text-align: right;\">\n",
       "      <th></th>\n",
       "      <th>Number</th>\n",
       "      <th>Frequency</th>\n",
       "      <th>Intimancy</th>\n",
       "      <th>Recency</th>\n",
       "    </tr>\n",
       "  </thead>\n",
       "  <tbody>\n",
       "    <tr>\n",
       "      <th>0</th>\n",
       "      <td>7.958309e+09</td>\n",
       "      <td>0.000235</td>\n",
       "      <td>0.000590</td>\n",
       "      <td>0.812813</td>\n",
       "    </tr>\n",
       "    <tr>\n",
       "      <th>1</th>\n",
       "      <td>9.154024e+09</td>\n",
       "      <td>0.000353</td>\n",
       "      <td>0.000186</td>\n",
       "      <td>0.880881</td>\n",
       "    </tr>\n",
       "    <tr>\n",
       "      <th>2</th>\n",
       "      <td>9.133218e+09</td>\n",
       "      <td>0.001766</td>\n",
       "      <td>0.000840</td>\n",
       "      <td>0.949950</td>\n",
       "    </tr>\n",
       "    <tr>\n",
       "      <th>3</th>\n",
       "      <td>9.032735e+09</td>\n",
       "      <td>0.000118</td>\n",
       "      <td>0.000000</td>\n",
       "      <td>0.231231</td>\n",
       "    </tr>\n",
       "    <tr>\n",
       "      <th>4</th>\n",
       "      <td>6.964498e+09</td>\n",
       "      <td>0.001059</td>\n",
       "      <td>0.000310</td>\n",
       "      <td>0.652653</td>\n",
       "    </tr>\n",
       "  </tbody>\n",
       "</table>\n",
       "</div>"
      ],
      "text/plain": [
       "         Number  Frequency  Intimancy   Recency\n",
       "0  7.958309e+09   0.000235   0.000590  0.812813\n",
       "1  9.154024e+09   0.000353   0.000186  0.880881\n",
       "2  9.133218e+09   0.001766   0.000840  0.949950\n",
       "3  9.032735e+09   0.000118   0.000000  0.231231\n",
       "4  6.964498e+09   0.001059   0.000310  0.652653"
      ]
     },
     "execution_count": 15,
     "metadata": {},
     "output_type": "execute_result"
    }
   ],
   "source": [
    "callLogDataframe.head()"
   ]
  },
  {
   "cell_type": "code",
   "execution_count": 16,
   "metadata": {},
   "outputs": [],
   "source": [
    "callLogDataframe.to_csv('Call_Log_Feature.csv',index=False)"
   ]
  },
  {
   "cell_type": "markdown",
   "metadata": {},
   "source": [
    "### Calculate Alpha, Beta & Gamma"
   ]
  },
  {
   "cell_type": "code",
   "execution_count": 17,
   "metadata": {},
   "outputs": [],
   "source": [
    "#Calculate Alpha\n",
    "total_call = len(df)\n",
    "alpha = total_outgoing/total_call\n",
    "\n",
    "#Calculate Beta\n",
    "mean_duration = np.mean(df['duration'])\n",
    "std_callDuration = np.std(df['duration'])\n",
    "NMD = mean_duration + 3 * std_callDuration\n",
    "\n",
    "beta = mean_duration/NMD\n",
    "\n",
    "#Calculate Gamma\n",
    "gamma = (1/1000)*(np.sum(callLogDataframe['Recency'])/(T_AK_Max - T_AK_Min))"
   ]
  },
  {
   "cell_type": "code",
   "execution_count": null,
   "metadata": {},
   "outputs": [],
   "source": []
  },
  {
   "cell_type": "code",
   "execution_count": null,
   "metadata": {},
   "outputs": [],
   "source": []
  }
 ],
 "metadata": {
  "kernelspec": {
   "display_name": "Python 3",
   "language": "python",
   "name": "python3"
  },
  "language_info": {
   "codemirror_mode": {
    "name": "ipython",
    "version": 3
   },
   "file_extension": ".py",
   "mimetype": "text/x-python",
   "name": "python",
   "nbconvert_exporter": "python",
   "pygments_lexer": "ipython3",
   "version": "3.8.5"
  },
  "toc": {
   "base_numbering": 1,
   "nav_menu": {},
   "number_sections": true,
   "sideBar": true,
   "skip_h1_title": false,
   "title_cell": "Table of Contents",
   "title_sidebar": "Contents",
   "toc_cell": false,
   "toc_position": {},
   "toc_section_display": true,
   "toc_window_display": false
  }
 },
 "nbformat": 4,
 "nbformat_minor": 4
}
