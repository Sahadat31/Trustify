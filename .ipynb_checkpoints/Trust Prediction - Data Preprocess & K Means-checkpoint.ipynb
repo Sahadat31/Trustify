{
 "cells": [
  {
   "cell_type": "code",
   "execution_count": 1,
   "metadata": {},
   "outputs": [],
   "source": [
    "import os\n",
    "import numpy as np\n",
    "import pandas as pd \n",
    "from tqdm import tqdm\n",
    "from dateutil import parser\n",
    "from datetime import datetime"
   ]
  },
  {
   "cell_type": "code",
   "execution_count": 3,
   "metadata": {},
   "outputs": [
    {
     "name": "stdout",
     "output_type": "stream",
     "text": [
      "(16877, 4)\n"
     ]
    },
    {
     "data": {
      "text/html": [
       "<div>\n",
       "<style scoped>\n",
       "    .dataframe tbody tr th:only-of-type {\n",
       "        vertical-align: middle;\n",
       "    }\n",
       "\n",
       "    .dataframe tbody tr th {\n",
       "        vertical-align: top;\n",
       "    }\n",
       "\n",
       "    .dataframe thead th {\n",
       "        text-align: right;\n",
       "    }\n",
       "</style>\n",
       "<table border=\"1\" class=\"dataframe\">\n",
       "  <thead>\n",
       "    <tr style=\"text-align: right;\">\n",
       "      <th></th>\n",
       "      <th>number</th>\n",
       "      <th>calltype</th>\n",
       "      <th>duration</th>\n",
       "      <th>date</th>\n",
       "    </tr>\n",
       "  </thead>\n",
       "  <tbody>\n",
       "    <tr>\n",
       "      <th>0</th>\n",
       "      <td>7958309153</td>\n",
       "      <td>incomming-missed</td>\n",
       "      <td>0</td>\n",
       "      <td>2020-02-13 07:30:04.464000+00:00</td>\n",
       "    </tr>\n",
       "    <tr>\n",
       "      <th>1</th>\n",
       "      <td>7958309153</td>\n",
       "      <td>outgoing-rejected</td>\n",
       "      <td>0</td>\n",
       "      <td>2020-06-12 01:29:16.039000+00:00</td>\n",
       "    </tr>\n",
       "    <tr>\n",
       "      <th>2</th>\n",
       "      <td>7958309153</td>\n",
       "      <td>incomming-connected</td>\n",
       "      <td>4797</td>\n",
       "      <td>2020-10-07 01:03:33.778000+00:00</td>\n",
       "    </tr>\n",
       "    <tr>\n",
       "      <th>3</th>\n",
       "      <td>7958309153</td>\n",
       "      <td>incomming-connected</td>\n",
       "      <td>4741</td>\n",
       "      <td>2020-09-05 12:46:02.822000+00:00</td>\n",
       "    </tr>\n",
       "    <tr>\n",
       "      <th>4</th>\n",
       "      <td>7958309153</td>\n",
       "      <td>incomming-connected</td>\n",
       "      <td>2082</td>\n",
       "      <td>2020-09-13 04:05:35.482000+00:00</td>\n",
       "    </tr>\n",
       "  </tbody>\n",
       "</table>\n",
       "</div>"
      ],
      "text/plain": [
       "       number             calltype  duration                             date\n",
       "0  7958309153     incomming-missed         0 2020-02-13 07:30:04.464000+00:00\n",
       "1  7958309153    outgoing-rejected         0 2020-06-12 01:29:16.039000+00:00\n",
       "2  7958309153  incomming-connected      4797 2020-10-07 01:03:33.778000+00:00\n",
       "3  7958309153  incomming-connected      4741 2020-09-05 12:46:02.822000+00:00\n",
       "4  7958309153  incomming-connected      2082 2020-09-13 04:05:35.482000+00:00"
      ]
     },
     "execution_count": 3,
     "metadata": {},
     "output_type": "execute_result"
    }
   ],
   "source": [
    "df = pd.read_json('./calllog.json')\n",
    "print(df.shape)\n",
    "df.head()"
   ]
  },
  {
   "cell_type": "code",
   "execution_count": 4,
   "metadata": {},
   "outputs": [
    {
     "data": {
      "text/plain": [
       "array(['incomming-missed', 'outgoing-rejected', 'incomming-connected',\n",
       "       'incomming-rejected', 'outgoing-connected',\n",
       "       'outgoing-notconnected'], dtype=object)"
      ]
     },
     "execution_count": 4,
     "metadata": {},
     "output_type": "execute_result"
    }
   ],
   "source": [
    "df.calltype.unique()"
   ]
  },
  {
   "cell_type": "code",
   "execution_count": 5,
   "metadata": {},
   "outputs": [],
   "source": [
    "df = df.sort_values(by='date', ascending=False)"
   ]
  },
  {
   "cell_type": "code",
   "execution_count": 6,
   "metadata": {},
   "outputs": [
    {
     "data": {
      "text/html": [
       "<div>\n",
       "<style scoped>\n",
       "    .dataframe tbody tr th:only-of-type {\n",
       "        vertical-align: middle;\n",
       "    }\n",
       "\n",
       "    .dataframe tbody tr th {\n",
       "        vertical-align: top;\n",
       "    }\n",
       "\n",
       "    .dataframe thead th {\n",
       "        text-align: right;\n",
       "    }\n",
       "</style>\n",
       "<table border=\"1\" class=\"dataframe\">\n",
       "  <thead>\n",
       "    <tr style=\"text-align: right;\">\n",
       "      <th></th>\n",
       "      <th>number</th>\n",
       "      <th>calltype</th>\n",
       "      <th>duration</th>\n",
       "      <th>date</th>\n",
       "      <th>callStatus</th>\n",
       "    </tr>\n",
       "  </thead>\n",
       "  <tbody>\n",
       "    <tr>\n",
       "      <th>7967</th>\n",
       "      <td>6949168770</td>\n",
       "      <td>outgoing-connected</td>\n",
       "      <td>4247</td>\n",
       "      <td>2020-12-31 23:53:36.841000+00:00</td>\n",
       "      <td>outgoing</td>\n",
       "    </tr>\n",
       "    <tr>\n",
       "      <th>12303</th>\n",
       "      <td>9098179455</td>\n",
       "      <td>incomming-missed</td>\n",
       "      <td>0</td>\n",
       "      <td>2020-12-31 23:53:12.472000+00:00</td>\n",
       "      <td>incomming</td>\n",
       "    </tr>\n",
       "    <tr>\n",
       "      <th>15845</th>\n",
       "      <td>9837612527</td>\n",
       "      <td>outgoing-rejected</td>\n",
       "      <td>0</td>\n",
       "      <td>2020-12-31 23:14:34.208000+00:00</td>\n",
       "      <td>outgoing</td>\n",
       "    </tr>\n",
       "    <tr>\n",
       "      <th>14441</th>\n",
       "      <td>9874841426</td>\n",
       "      <td>incomming-rejected</td>\n",
       "      <td>0</td>\n",
       "      <td>2020-12-31 21:52:14.488000+00:00</td>\n",
       "      <td>incomming</td>\n",
       "    </tr>\n",
       "    <tr>\n",
       "      <th>492</th>\n",
       "      <td>9800684503</td>\n",
       "      <td>outgoing-notconnected</td>\n",
       "      <td>0</td>\n",
       "      <td>2020-12-31 21:29:01.170000+00:00</td>\n",
       "      <td>outgoing</td>\n",
       "    </tr>\n",
       "  </tbody>\n",
       "</table>\n",
       "</div>"
      ],
      "text/plain": [
       "           number               calltype  duration  \\\n",
       "7967   6949168770     outgoing-connected      4247   \n",
       "12303  9098179455       incomming-missed         0   \n",
       "15845  9837612527      outgoing-rejected         0   \n",
       "14441  9874841426     incomming-rejected         0   \n",
       "492    9800684503  outgoing-notconnected         0   \n",
       "\n",
       "                                  date callStatus  \n",
       "7967  2020-12-31 23:53:36.841000+00:00   outgoing  \n",
       "12303 2020-12-31 23:53:12.472000+00:00  incomming  \n",
       "15845 2020-12-31 23:14:34.208000+00:00   outgoing  \n",
       "14441 2020-12-31 21:52:14.488000+00:00  incomming  \n",
       "492   2020-12-31 21:29:01.170000+00:00   outgoing  "
      ]
     },
     "execution_count": 6,
     "metadata": {},
     "output_type": "execute_result"
    }
   ],
   "source": [
    "df['callStatus'] = df.calltype.apply(lambda x: x.split('-')[0])\n",
    "# df['callStatus2'] = df.calltype.apply(lambda x: x.split('-')[1])\n",
    "#df['timeStampMilli'] = df.date.apply(lambda x: parser.parse(str(x)).microsecond)\n",
    "df.head(n=5)"
   ]
  },
  {
   "cell_type": "markdown",
   "metadata": {},
   "source": [
    "### Number"
   ]
  },
  {
   "cell_type": "code",
   "execution_count": 22,
   "metadata": {},
   "outputs": [
    {
     "data": {
      "text/plain": [
       "(1000,)"
      ]
     },
     "execution_count": 22,
     "metadata": {},
     "output_type": "execute_result"
    }
   ],
   "source": [
    "number = np.array(df.number.unique())\n",
    "number.shape"
   ]
  },
  {
   "cell_type": "markdown",
   "metadata": {},
   "source": [
    "### Frequency"
   ]
  },
  {
   "cell_type": "code",
   "execution_count": 7,
   "metadata": {},
   "outputs": [],
   "source": [
    "total_outgoing = df['callStatus'].value_counts()[0]  #Total Outgoing Calls\n",
    "total_incoming = df['callStatus'].value_counts()[1]  #Total Incoming Calls"
   ]
  },
  {
   "cell_type": "code",
   "execution_count": 8,
   "metadata": {},
   "outputs": [],
   "source": [
    "def frequency(number):\n",
    "    \"\"\" Calculates Frequency for outgoing call from A to B \"\"\"\n",
    "    \n",
    "    C_AB = 0\n",
    "    C_AK = total_outgoing\n",
    "    sub_df = df[df['number'] == number]\n",
    "    C_AB = sub_df[sub_df['callStatus'] == 'outgoing'].shape[0]\n",
    "                \n",
    "    return C_AB/C_AK"
   ]
  },
  {
   "cell_type": "markdown",
   "metadata": {},
   "source": [
    "### Intimacy"
   ]
  },
  {
   "cell_type": "code",
   "execution_count": 9,
   "metadata": {},
   "outputs": [],
   "source": [
    "D_AK = df.groupby(['callStatus'])['duration'].sum()['outgoing']  #total outgoing call duration\n",
    "D_KA = df.groupby(['callStatus'])['duration'].sum()['incomming']  #total incoming call duration"
   ]
  },
  {
   "cell_type": "code",
   "execution_count": 10,
   "metadata": {},
   "outputs": [
    {
     "data": {
      "text/plain": [
       "callStatus\n",
       "incomming    7445000\n",
       "outgoing     7719708\n",
       "Name: duration, dtype: int64"
      ]
     },
     "execution_count": 10,
     "metadata": {},
     "output_type": "execute_result"
    }
   ],
   "source": [
    "df.groupby(['callStatus'])['duration'].sum()"
   ]
  },
  {
   "cell_type": "code",
   "execution_count": 11,
   "metadata": {},
   "outputs": [
    {
     "data": {
      "text/plain": [
       "callStatus\n",
       "incomming    7445000\n",
       "outgoing     7719708\n",
       "Name: duration, dtype: int64"
      ]
     },
     "execution_count": 11,
     "metadata": {},
     "output_type": "execute_result"
    }
   ],
   "source": [
    "x = df.groupby(['callStatus'])['duration'].sum()\n",
    "x.head(n=5)"
   ]
  },
  {
   "cell_type": "code",
   "execution_count": 14,
   "metadata": {},
   "outputs": [],
   "source": [
    "def intimacy(number):\n",
    "    \"\"\" Calculates Intimacy for outgoing call from A to B \"\"\"\n",
    "    \n",
    "    tendency = D_AK/(D_AK + D_KA)\n",
    "    sub_df = df[df['number'] == number]\n",
    "    \n",
    "    #Duration of outgoing calling \n",
    "    try: \n",
    "        D_AB = sub_df.groupby(['callStatus'])['duration'].sum()['outgoing']\n",
    "    except:\n",
    "        D_AB = 0\n",
    "        \n",
    "    #Duration of incoming calling\n",
    "    try:\n",
    "        D_BA = sub_df.groupby(['callStatus'])['duration'].sum()['incomming']\n",
    "    except:\n",
    "        D_BA = 0\n",
    "    \n",
    "    S_AB = D_AB/(D_AK + D_KA)\n",
    "    R_BA = D_BA/(D_AK + D_KA)\n",
    "    \n",
    "    return tendency * S_AB + (1-tendency) * R_BA"
   ]
  },
  {
   "cell_type": "markdown",
   "metadata": {},
   "source": [
    "### Recency"
   ]
  },
  {
   "cell_type": "code",
   "execution_count": 15,
   "metadata": {},
   "outputs": [],
   "source": [
    "def get_millisecond(timestamp):\n",
    "    sample = datetime.strptime(str(timestamp), '%Y-%m-%d %H:%M:%S.%f+00:00')\n",
    "    milisec = sample.timestamp()*1000\n",
    "    return milisec"
   ]
  },
  {
   "cell_type": "code",
   "execution_count": 16,
   "metadata": {},
   "outputs": [],
   "source": [
    "T_AK_Max = get_millisecond(df.iloc[0,3])   #Max Timestamp\n",
    "T_AK_Min = get_millisecond(df.iloc[-1,3]) #Min Timestamp "
   ]
  },
  {
   "cell_type": "code",
   "execution_count": 17,
   "metadata": {},
   "outputs": [],
   "source": [
    "def recency(number):\n",
    "    sub_df = df[df['number'] == number]\n",
    "    T_AB = get_millisecond(sub_df.iloc[0,3])    #timestamp for recent call between A to B\n",
    "    \n",
    "    return (T_AB - T_AK_Min)/(T_AK_Max-T_AK_Min)"
   ]
  },
  {
   "cell_type": "markdown",
   "metadata": {},
   "source": [
    "\n",
    "### Build Dataset with Features"
   ]
  },
  {
   "cell_type": "code",
   "execution_count": 18,
   "metadata": {},
   "outputs": [
    {
     "data": {
      "text/plain": [
       "(1000, 4)"
      ]
     },
     "execution_count": 18,
     "metadata": {},
     "output_type": "execute_result"
    }
   ],
   "source": [
    "Values = np.zeros((1000,4)).astype('int64')\n",
    "Values.shape"
   ]
  },
  {
   "cell_type": "code",
   "execution_count": 19,
   "metadata": {},
   "outputs": [
    {
     "data": {
      "text/html": [
       "<div>\n",
       "<style scoped>\n",
       "    .dataframe tbody tr th:only-of-type {\n",
       "        vertical-align: middle;\n",
       "    }\n",
       "\n",
       "    .dataframe tbody tr th {\n",
       "        vertical-align: top;\n",
       "    }\n",
       "\n",
       "    .dataframe thead th {\n",
       "        text-align: right;\n",
       "    }\n",
       "</style>\n",
       "<table border=\"1\" class=\"dataframe\">\n",
       "  <thead>\n",
       "    <tr style=\"text-align: right;\">\n",
       "      <th></th>\n",
       "      <th>Number</th>\n",
       "      <th>Frequency</th>\n",
       "      <th>Intimacy</th>\n",
       "      <th>Recency</th>\n",
       "    </tr>\n",
       "  </thead>\n",
       "  <tbody>\n",
       "    <tr>\n",
       "      <th>0</th>\n",
       "      <td>0</td>\n",
       "      <td>0</td>\n",
       "      <td>0</td>\n",
       "      <td>0</td>\n",
       "    </tr>\n",
       "    <tr>\n",
       "      <th>1</th>\n",
       "      <td>0</td>\n",
       "      <td>0</td>\n",
       "      <td>0</td>\n",
       "      <td>0</td>\n",
       "    </tr>\n",
       "    <tr>\n",
       "      <th>2</th>\n",
       "      <td>0</td>\n",
       "      <td>0</td>\n",
       "      <td>0</td>\n",
       "      <td>0</td>\n",
       "    </tr>\n",
       "    <tr>\n",
       "      <th>3</th>\n",
       "      <td>0</td>\n",
       "      <td>0</td>\n",
       "      <td>0</td>\n",
       "      <td>0</td>\n",
       "    </tr>\n",
       "    <tr>\n",
       "      <th>4</th>\n",
       "      <td>0</td>\n",
       "      <td>0</td>\n",
       "      <td>0</td>\n",
       "      <td>0</td>\n",
       "    </tr>\n",
       "  </tbody>\n",
       "</table>\n",
       "</div>"
      ],
      "text/plain": [
       "   Number  Frequency  Intimacy  Recency\n",
       "0       0          0         0        0\n",
       "1       0          0         0        0\n",
       "2       0          0         0        0\n",
       "3       0          0         0        0\n",
       "4       0          0         0        0"
      ]
     },
     "execution_count": 19,
     "metadata": {},
     "output_type": "execute_result"
    }
   ],
   "source": [
    "col_names = ['Number','Frequency','Intimacy','Recency']\n",
    "callLogDataframe = pd.DataFrame(data=Values, columns=col_names)\n",
    "callLogDataframe.head()"
   ]
  },
  {
   "cell_type": "code",
   "execution_count": 23,
   "metadata": {},
   "outputs": [
    {
     "name": "stderr",
     "output_type": "stream",
     "text": [
      "100%|██████████████████████████████████████████████████████████████████████████████| 1000/1000 [00:12<00:00, 78.65it/s]\n"
     ]
    }
   ],
   "source": [
    "for i in tqdm(range(1000)):\n",
    "    callLogDataframe.iloc[i,0] = number[i]\n",
    "    callLogDataframe.iloc[i,1] = frequency(callLogDataframe.iloc[i,0])\n",
    "    callLogDataframe.iloc[i,2] = intimacy(callLogDataframe.iloc[i,0])\n",
    "    callLogDataframe.iloc[i,3] = recency(callLogDataframe.iloc[i,0])"
   ]
  },
  {
   "cell_type": "code",
   "execution_count": 24,
   "metadata": {},
   "outputs": [
    {
     "data": {
      "text/html": [
       "<div>\n",
       "<style scoped>\n",
       "    .dataframe tbody tr th:only-of-type {\n",
       "        vertical-align: middle;\n",
       "    }\n",
       "\n",
       "    .dataframe tbody tr th {\n",
       "        vertical-align: top;\n",
       "    }\n",
       "\n",
       "    .dataframe thead th {\n",
       "        text-align: right;\n",
       "    }\n",
       "</style>\n",
       "<table border=\"1\" class=\"dataframe\">\n",
       "  <thead>\n",
       "    <tr style=\"text-align: right;\">\n",
       "      <th></th>\n",
       "      <th>Number</th>\n",
       "      <th>Frequency</th>\n",
       "      <th>Intimacy</th>\n",
       "      <th>Recency</th>\n",
       "    </tr>\n",
       "  </thead>\n",
       "  <tbody>\n",
       "    <tr>\n",
       "      <th>0</th>\n",
       "      <td>6949168770</td>\n",
       "      <td>0.000824</td>\n",
       "      <td>0.000685</td>\n",
       "      <td>1.000000</td>\n",
       "    </tr>\n",
       "    <tr>\n",
       "      <th>1</th>\n",
       "      <td>9098179455</td>\n",
       "      <td>0.001177</td>\n",
       "      <td>0.000243</td>\n",
       "      <td>0.999999</td>\n",
       "    </tr>\n",
       "    <tr>\n",
       "      <th>2</th>\n",
       "      <td>9837612527</td>\n",
       "      <td>0.002237</td>\n",
       "      <td>0.000767</td>\n",
       "      <td>0.999926</td>\n",
       "    </tr>\n",
       "    <tr>\n",
       "      <th>3</th>\n",
       "      <td>9874841426</td>\n",
       "      <td>0.003296</td>\n",
       "      <td>0.001804</td>\n",
       "      <td>0.999770</td>\n",
       "    </tr>\n",
       "    <tr>\n",
       "      <th>4</th>\n",
       "      <td>9800684503</td>\n",
       "      <td>0.001413</td>\n",
       "      <td>0.000483</td>\n",
       "      <td>0.999726</td>\n",
       "    </tr>\n",
       "  </tbody>\n",
       "</table>\n",
       "</div>"
      ],
      "text/plain": [
       "       Number  Frequency  Intimacy   Recency\n",
       "0  6949168770   0.000824  0.000685  1.000000\n",
       "1  9098179455   0.001177  0.000243  0.999999\n",
       "2  9837612527   0.002237  0.000767  0.999926\n",
       "3  9874841426   0.003296  0.001804  0.999770\n",
       "4  9800684503   0.001413  0.000483  0.999726"
      ]
     },
     "execution_count": 24,
     "metadata": {},
     "output_type": "execute_result"
    }
   ],
   "source": [
    "callLogDataframe.head()"
   ]
  },
  {
   "cell_type": "markdown",
   "metadata": {},
   "source": [
    "## K-Means"
   ]
  },
  {
   "cell_type": "code",
   "execution_count": 25,
   "metadata": {},
   "outputs": [],
   "source": [
    "from sklearn.preprocessing import MinMaxScaler\n",
    "from sklearn.cluster import KMeans"
   ]
  },
  {
   "cell_type": "code",
   "execution_count": 26,
   "metadata": {},
   "outputs": [],
   "source": [
    "sub_log = callLogDataframe[['Frequency','Intimacy','Recency']]\n",
    "\n",
    "mms = MinMaxScaler()\n",
    "X = mms.fit_transform(sub_log)"
   ]
  },
  {
   "cell_type": "code",
   "execution_count": 27,
   "metadata": {},
   "outputs": [],
   "source": [
    "km = KMeans(\n",
    "    n_clusters=4, init='random',\n",
    "    n_init=10, max_iter=300,\n",
    ")\n",
    "\n",
    "label = km.fit_predict(X)"
   ]
  },
  {
   "cell_type": "code",
   "execution_count": 28,
   "metadata": {},
   "outputs": [
    {
     "data": {
      "text/html": [
       "<div>\n",
       "<style scoped>\n",
       "    .dataframe tbody tr th:only-of-type {\n",
       "        vertical-align: middle;\n",
       "    }\n",
       "\n",
       "    .dataframe tbody tr th {\n",
       "        vertical-align: top;\n",
       "    }\n",
       "\n",
       "    .dataframe thead th {\n",
       "        text-align: right;\n",
       "    }\n",
       "</style>\n",
       "<table border=\"1\" class=\"dataframe\">\n",
       "  <thead>\n",
       "    <tr style=\"text-align: right;\">\n",
       "      <th></th>\n",
       "      <th>Frequency</th>\n",
       "      <th>Intimacy</th>\n",
       "      <th>Recency</th>\n",
       "      <th>label</th>\n",
       "    </tr>\n",
       "  </thead>\n",
       "  <tbody>\n",
       "    <tr>\n",
       "      <th>0</th>\n",
       "      <td>0.225806</td>\n",
       "      <td>0.276533</td>\n",
       "      <td>1.000000</td>\n",
       "      <td>0</td>\n",
       "    </tr>\n",
       "    <tr>\n",
       "      <th>1</th>\n",
       "      <td>0.322581</td>\n",
       "      <td>0.098190</td>\n",
       "      <td>0.999999</td>\n",
       "      <td>0</td>\n",
       "    </tr>\n",
       "    <tr>\n",
       "      <th>2</th>\n",
       "      <td>0.612903</td>\n",
       "      <td>0.309726</td>\n",
       "      <td>0.999914</td>\n",
       "      <td>2</td>\n",
       "    </tr>\n",
       "    <tr>\n",
       "      <th>3</th>\n",
       "      <td>0.903226</td>\n",
       "      <td>0.728687</td>\n",
       "      <td>0.999732</td>\n",
       "      <td>2</td>\n",
       "    </tr>\n",
       "    <tr>\n",
       "      <th>4</th>\n",
       "      <td>0.387097</td>\n",
       "      <td>0.195148</td>\n",
       "      <td>0.999680</td>\n",
       "      <td>0</td>\n",
       "    </tr>\n",
       "  </tbody>\n",
       "</table>\n",
       "</div>"
      ],
      "text/plain": [
       "   Frequency  Intimacy   Recency  label\n",
       "0   0.225806  0.276533  1.000000      0\n",
       "1   0.322581  0.098190  0.999999      0\n",
       "2   0.612903  0.309726  0.999914      2\n",
       "3   0.903226  0.728687  0.999732      2\n",
       "4   0.387097  0.195148  0.999680      0"
      ]
     },
     "execution_count": 28,
     "metadata": {},
     "output_type": "execute_result"
    }
   ],
   "source": [
    "sub_log['label'] = label\n",
    "sub_log['Frequency'] = X[:,0]\n",
    "sub_log['Intimacy'] = X[:,1]\n",
    "sub_log['Recency'] = X[:,2]\n",
    "\n",
    "sub_log.head()"
   ]
  },
  {
   "cell_type": "code",
   "execution_count": 29,
   "metadata": {},
   "outputs": [
    {
     "data": {
      "text/plain": [
       "3    412\n",
       "0    372\n",
       "2    164\n",
       "1     52\n",
       "Name: label, dtype: int64"
      ]
     },
     "execution_count": 29,
     "metadata": {},
     "output_type": "execute_result"
    }
   ],
   "source": [
    "sub_log['label'].value_counts()"
   ]
  },
  {
   "cell_type": "code",
   "execution_count": 30,
   "metadata": {},
   "outputs": [
    {
     "data": {
      "text/html": [
       "<div>\n",
       "<style scoped>\n",
       "    .dataframe tbody tr th:only-of-type {\n",
       "        vertical-align: middle;\n",
       "    }\n",
       "\n",
       "    .dataframe tbody tr th {\n",
       "        vertical-align: top;\n",
       "    }\n",
       "\n",
       "    .dataframe thead th {\n",
       "        text-align: right;\n",
       "    }\n",
       "</style>\n",
       "<table border=\"1\" class=\"dataframe\">\n",
       "  <thead>\n",
       "    <tr style=\"text-align: right;\">\n",
       "      <th></th>\n",
       "      <th>Frequency</th>\n",
       "      <th>Intimacy</th>\n",
       "      <th>Recency</th>\n",
       "      <th>label</th>\n",
       "    </tr>\n",
       "  </thead>\n",
       "  <tbody>\n",
       "    <tr>\n",
       "      <th>0</th>\n",
       "      <td>0.225806</td>\n",
       "      <td>0.276533</td>\n",
       "      <td>1.000000</td>\n",
       "      <td>Medium</td>\n",
       "    </tr>\n",
       "    <tr>\n",
       "      <th>1</th>\n",
       "      <td>0.322581</td>\n",
       "      <td>0.098190</td>\n",
       "      <td>0.999999</td>\n",
       "      <td>Medium</td>\n",
       "    </tr>\n",
       "    <tr>\n",
       "      <th>2</th>\n",
       "      <td>0.612903</td>\n",
       "      <td>0.309726</td>\n",
       "      <td>0.999914</td>\n",
       "      <td>High</td>\n",
       "    </tr>\n",
       "    <tr>\n",
       "      <th>3</th>\n",
       "      <td>0.903226</td>\n",
       "      <td>0.728687</td>\n",
       "      <td>0.999732</td>\n",
       "      <td>High</td>\n",
       "    </tr>\n",
       "    <tr>\n",
       "      <th>4</th>\n",
       "      <td>0.387097</td>\n",
       "      <td>0.195148</td>\n",
       "      <td>0.999680</td>\n",
       "      <td>Medium</td>\n",
       "    </tr>\n",
       "  </tbody>\n",
       "</table>\n",
       "</div>"
      ],
      "text/plain": [
       "   Frequency  Intimacy   Recency   label\n",
       "0   0.225806  0.276533  1.000000  Medium\n",
       "1   0.322581  0.098190  0.999999  Medium\n",
       "2   0.612903  0.309726  0.999914    High\n",
       "3   0.903226  0.728687  0.999732    High\n",
       "4   0.387097  0.195148  0.999680  Medium"
      ]
     },
     "execution_count": 30,
     "metadata": {},
     "output_type": "execute_result"
    }
   ],
   "source": [
    "mapping_dict = {\n",
    "    0 : 'Medium',\n",
    "    1 : 'Spam',\n",
    "    2 : 'High',\n",
    "    3 : 'Low'\n",
    "}\n",
    "\n",
    "sub_log['label'] = sub_log['label'].map(mapping_dict)\n",
    "sub_log.head()"
   ]
  },
  {
   "cell_type": "code",
   "execution_count": 31,
   "metadata": {},
   "outputs": [
    {
     "data": {
      "text/html": [
       "<div>\n",
       "<style scoped>\n",
       "    .dataframe tbody tr th:only-of-type {\n",
       "        vertical-align: middle;\n",
       "    }\n",
       "\n",
       "    .dataframe tbody tr th {\n",
       "        vertical-align: top;\n",
       "    }\n",
       "\n",
       "    .dataframe thead th {\n",
       "        text-align: right;\n",
       "    }\n",
       "</style>\n",
       "<table border=\"1\" class=\"dataframe\">\n",
       "  <thead>\n",
       "    <tr style=\"text-align: right;\">\n",
       "      <th></th>\n",
       "      <th>Number</th>\n",
       "      <th>Frequency</th>\n",
       "      <th>Intimacy</th>\n",
       "      <th>Recency</th>\n",
       "      <th>label</th>\n",
       "    </tr>\n",
       "  </thead>\n",
       "  <tbody>\n",
       "    <tr>\n",
       "      <th>0</th>\n",
       "      <td>6949168770</td>\n",
       "      <td>0.000824</td>\n",
       "      <td>0.000685</td>\n",
       "      <td>1.000000</td>\n",
       "      <td>Medium</td>\n",
       "    </tr>\n",
       "    <tr>\n",
       "      <th>1</th>\n",
       "      <td>9098179455</td>\n",
       "      <td>0.001177</td>\n",
       "      <td>0.000243</td>\n",
       "      <td>0.999999</td>\n",
       "      <td>Medium</td>\n",
       "    </tr>\n",
       "    <tr>\n",
       "      <th>2</th>\n",
       "      <td>9837612527</td>\n",
       "      <td>0.002237</td>\n",
       "      <td>0.000767</td>\n",
       "      <td>0.999926</td>\n",
       "      <td>High</td>\n",
       "    </tr>\n",
       "    <tr>\n",
       "      <th>3</th>\n",
       "      <td>9874841426</td>\n",
       "      <td>0.003296</td>\n",
       "      <td>0.001804</td>\n",
       "      <td>0.999770</td>\n",
       "      <td>High</td>\n",
       "    </tr>\n",
       "    <tr>\n",
       "      <th>4</th>\n",
       "      <td>9800684503</td>\n",
       "      <td>0.001413</td>\n",
       "      <td>0.000483</td>\n",
       "      <td>0.999726</td>\n",
       "      <td>Medium</td>\n",
       "    </tr>\n",
       "  </tbody>\n",
       "</table>\n",
       "</div>"
      ],
      "text/plain": [
       "       Number  Frequency  Intimacy   Recency   label\n",
       "0  6949168770   0.000824  0.000685  1.000000  Medium\n",
       "1  9098179455   0.001177  0.000243  0.999999  Medium\n",
       "2  9837612527   0.002237  0.000767  0.999926    High\n",
       "3  9874841426   0.003296  0.001804  0.999770    High\n",
       "4  9800684503   0.001413  0.000483  0.999726  Medium"
      ]
     },
     "execution_count": 31,
     "metadata": {},
     "output_type": "execute_result"
    }
   ],
   "source": [
    "callLogDataframe['label'] = sub_log['label']\n",
    "callLogDataframe.head()"
   ]
  },
  {
   "cell_type": "code",
   "execution_count": 32,
   "metadata": {},
   "outputs": [],
   "source": [
    "if os.path.exists('./Call_Log_Feature.csv'):\n",
    "    os.remove('./Call_Log_Feature.csv')\n",
    "callLogDataframe.to_csv('./Call_Log_Feature.csv',index=False)"
   ]
  },
  {
   "cell_type": "markdown",
   "metadata": {},
   "source": [
    "### Plot Call Log Feature Data"
   ]
  },
  {
   "cell_type": "code",
   "execution_count": 33,
   "metadata": {},
   "outputs": [],
   "source": [
    "from mpl_toolkits import mplot3d\n",
    "import numpy as np\n",
    "import matplotlib.pyplot as plt\n",
    "plt.style.use('seaborn')"
   ]
  },
  {
   "cell_type": "code",
   "execution_count": 34,
   "metadata": {},
   "outputs": [
    {
     "data": {
      "image/png": "[encoded data removed]",
      "text/plain": [
       "<Figure size 1728x720 with 1 Axes>"
      ]
     },
     "metadata": {},
     "output_type": "display_data"
    }
   ],
   "source": [
    "fig = plt.figure(figsize=(24,10))\n",
    "ax = plt.axes(projection ='3d')\n",
    "\n",
    "labels = ['Spam', 'Low', 'Medium', 'High']\n",
    "c = ['black', 'red', 'green', 'blue']\n",
    "for i,label in enumerate(labels):\n",
    "    sub_log_ = sub_log[sub_log['label']==label]\n",
    "    ax.scatter(sub_log_['Frequency'], sub_log_['Intimacy'], sub_log_['Recency'], color = c[i] )\n",
    "    ax.set_xlabel('Frequency')\n",
    "    ax.set_ylabel('Intimacy')\n",
    "    ax.set_zlabel('Recency')\n",
    "plt.show()"
   ]
  },
  {
   "cell_type": "code",
   "execution_count": 30,
   "metadata": {},
   "outputs": [
    {
     "data": {
      "text/plain": [
       "Low       412\n",
       "Medium    372\n",
       "High      164\n",
       "Spam       52\n",
       "Name: label, dtype: int64"
      ]
     },
     "execution_count": 30,
     "metadata": {},
     "output_type": "execute_result"
    }
   ],
   "source": [
    "sub_log['label'].value_counts()"
   ]
  },
  {
   "cell_type": "markdown",
   "metadata": {},
   "source": [
    "### ANN Model Train"
   ]
  },
  {
   "cell_type": "code",
   "execution_count": null,
   "metadata": {},
   "outputs": [],
   "source": [
    "from keras.models import Sequential\n",
    "from keras.layers import Dense, Dropout\n",
    "from keras.optimizers import Adam\n",
    "from sklearn.model_selection import train_test_split\n",
    "from keras.utils import to_categorical"
   ]
  },
  {
   "cell_type": "code",
   "execution_count": null,
   "metadata": {},
   "outputs": [],
   "source": [
    "model = Sequential()\n",
    "model.add(Dense(16, activation='relu', input_shape=(3,)))\n",
    "model.add(Dense(32, activation='relu'))\n",
    "model.add(Dense(4, activation='softmax'))\n",
    "\n",
    "adam = Adam(lr=1e-3)\n",
    "model.compile(optimizer=adam, loss='categorical_crossentropy', metrics=['accuracy'])\n",
    "\n",
    "model.summary()"
   ]
  },
  {
   "cell_type": "code",
   "execution_count": null,
   "metadata": {},
   "outputs": [],
   "source": [
    "reverse_map = {\n",
    "    'Spam' : 0,\n",
    "    'Low' : 1,\n",
    "    'Medium' : 2,\n",
    "    'High' : 3\n",
    "}\n",
    "\n",
    "sub_log = sub_log.sample(frac=1)\n",
    "\n",
    "X = sub_log.drop(['label'],axis=1)\n",
    "Y = sub_log['label']\n",
    "Y = Y.map(reverse_map)\n",
    "\n",
    "x_train,x_test, y_train,y_test = train_test_split(X,Y, test_size=0.2)\n",
    "y_train = to_categorical(y_train)\n",
    "# x_train = x_train.values#.reshape((800,3,1))\n",
    "# x_test = x_test.values#.reshape((200,3,1))"
   ]
  },
  {
   "cell_type": "code",
   "execution_count": null,
   "metadata": {},
   "outputs": [],
   "source": [
    "model.fit(x_train,y_train,epochs=10, batch_size=32, validation_split=0.1)"
   ]
  },
  {
   "cell_type": "code",
   "execution_count": null,
   "metadata": {},
   "outputs": [],
   "source": []
  }
 ],
 "metadata": {
  "kernelspec": {
   "display_name": "Python 3",
   "language": "python",
   "name": "python3"
  },
  "language_info": {
   "codemirror_mode": {
    "name": "ipython",
    "version": 3
   },
   "file_extension": ".py",
   "mimetype": "text/x-python",
   "name": "python",
   "nbconvert_exporter": "python",
   "pygments_lexer": "ipython3",
   "version": "3.8.5"
  },
  "toc": {
   "base_numbering": 1,
   "nav_menu": {},
   "number_sections": true,
   "sideBar": true,
   "skip_h1_title": false,
   "title_cell": "Table of Contents",
   "title_sidebar": "Contents",
   "toc_cell": false,
   "toc_position": {},
   "toc_section_display": true,
   "toc_window_display": false
  }
 },
 "nbformat": 4,
 "nbformat_minor": 4
}
